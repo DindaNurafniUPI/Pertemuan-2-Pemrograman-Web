{
 "cells": [
  {
   "cell_type": "code",
   "execution_count": 2,
   "id": "b8ca4e76",
   "metadata": {},
   "outputs": [],
   "source": [
    "def luas_persegi_panjang(panjang, lebar =20):\n",
    "    luas = panjang * lebar\n",
    "    return luas"
   ]
  },
  {
   "cell_type": "code",
   "execution_count": 3,
   "id": "712e941c",
   "metadata": {},
   "outputs": [],
   "source": [
    "luas1 = luas_persegi_panjang(30)"
   ]
  },
  {
   "cell_type": "code",
   "execution_count": 4,
   "id": "6fc04482",
   "metadata": {},
   "outputs": [
    {
     "name": "stdout",
     "output_type": "stream",
     "text": [
      "600\n"
     ]
    }
   ],
   "source": [
    "print(luas1)"
   ]
  },
  {
   "cell_type": "code",
   "execution_count": null,
   "id": "2f8b9ab5",
   "metadata": {},
   "outputs": [],
   "source": [
    "Keyword parameter"
   ]
  },
  {
   "cell_type": "code",
   "execution_count": 5,
   "id": "06ed4d52",
   "metadata": {},
   "outputs": [],
   "source": [
    "luas1 = luas_persegi_panjang(30, lebar=60)"
   ]
  },
  {
   "cell_type": "code",
   "execution_count": 6,
   "id": "0ffc3ad9",
   "metadata": {},
   "outputs": [
    {
     "name": "stdout",
     "output_type": "stream",
     "text": [
      "1800\n"
     ]
    }
   ],
   "source": [
    "print(luas1)"
   ]
  },
  {
   "cell_type": "code",
   "execution_count": null,
   "id": "46a233f8",
   "metadata": {},
   "outputs": [],
   "source": [
    "lambda"
   ]
  },
  {
   "cell_type": "code",
   "execution_count": 7,
   "id": "592f7d99",
   "metadata": {},
   "outputs": [
    {
     "name": "stdout",
     "output_type": "stream",
     "text": [
      "10\n"
     ]
    }
   ],
   "source": [
    "penjumlahan = lambda angka: angka+5\n",
    "print(penjumlahan(5))"
   ]
  },
  {
   "cell_type": "code",
   "execution_count": null,
   "id": "39669fbf",
   "metadata": {},
   "outputs": [],
   "source": [
    "def penjumlahan(angka):\n",
    "    return angka+5"
   ]
  },
  {
   "cell_type": "code",
   "execution_count": 8,
   "id": "7be1a3f2",
   "metadata": {},
   "outputs": [
    {
     "data": {
      "text/plain": [
       "10"
      ]
     },
     "execution_count": 8,
     "metadata": {},
     "output_type": "execute_result"
    }
   ],
   "source": [
    "penjumlahan(5)"
   ]
  },
  {
   "cell_type": "code",
   "execution_count": null,
   "id": "2688af12",
   "metadata": {},
   "outputs": [],
   "source": []
  }
 ],
 "metadata": {
  "kernelspec": {
   "display_name": "Python 3",
   "language": "python",
   "name": "python3"
  },
  "language_info": {
   "codemirror_mode": {
    "name": "ipython",
    "version": 3
   },
   "file_extension": ".py",
   "mimetype": "text/x-python",
   "name": "python",
   "nbconvert_exporter": "python",
   "pygments_lexer": "ipython3",
   "version": "3.8.8"
  }
 },
 "nbformat": 4,
 "nbformat_minor": 5
}
