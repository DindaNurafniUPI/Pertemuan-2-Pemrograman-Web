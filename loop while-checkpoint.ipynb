{
 "cells": [
  {
   "cell_type": "code",
   "execution_count": null,
   "id": "cd45de9f",
   "metadata": {},
   "outputs": [],
   "source": [
    "n = 5\n",
    "i = 1\n",
    "\n",
    "while i<= n:\n",
    "    print(i)\n",
    "    i += 1"
   ]
  },
  {
   "cell_type": "code",
   "execution_count": null,
   "id": "cbc629ab",
   "metadata": {},
   "outputs": [],
   "source": [
    "n = 5\n",
    "i = 1\n",
    "\n",
    "while i<= n:\n",
    "    print(i)\n",
    "#    i += 1"
   ]
  },
  {
   "cell_type": "code",
   "execution_count": null,
   "id": "dfc828fa",
   "metadata": {},
   "outputs": [],
   "source": [
    "n = 5\n",
    "i = 1\n",
    "\n",
    "while i<= n:\n",
    "    j = i +1\n",
    "    print(j)\n",
    "    i += 1"
   ]
  },
  {
   "cell_type": "code",
   "execution_count": null,
   "id": "2031bba3",
   "metadata": {},
   "outputs": [],
   "source": [
    "is_loop = True\n",
    "i = 1\n",
    "\n",
    "while is_loop:\n",
    "    print(i)\n",
    "    i = i + 1\n",
    "    if i == 15:\n",
    "        is_loop = false"
   ]
  },
  {
   "cell_type": "code",
   "execution_count": null,
   "id": "9aa22be5",
   "metadata": {},
   "outputs": [],
   "source": []
  },
  {
   "cell_type": "code",
   "execution_count": null,
   "id": "ec8be9f8",
   "metadata": {},
   "outputs": [],
   "source": []
  },
  {
   "cell_type": "code",
   "execution_count": null,
   "id": "e711922c",
   "metadata": {},
   "outputs": [],
   "source": []
  }
 ],
 "metadata": {
  "kernelspec": {
   "display_name": "Python 3",
   "language": "python",
   "name": "python3"
  },
  "language_info": {
   "codemirror_mode": {
    "name": "ipython",
    "version": 3
   },
   "file_extension": ".py",
   "mimetype": "text/x-python",
   "name": "python",
   "nbconvert_exporter": "python",
   "pygments_lexer": "ipython3",
   "version": "3.8.8"
  }
 },
 "nbformat": 4,
 "nbformat_minor": 5
}
