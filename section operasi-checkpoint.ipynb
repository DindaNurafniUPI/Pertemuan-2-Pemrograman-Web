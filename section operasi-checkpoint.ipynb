{
 "cells": [
  {
   "cell_type": "code",
   "execution_count": 6,
   "id": "3b3a8d56",
   "metadata": {},
   "outputs": [],
   "source": [
    "pembagian = 4 / 2\n",
    "perkalian = 4 * 2\n",
    "penjumlahan = 4 + 2\n",
    "pengurangan = 4 - 2"
   ]
  },
  {
   "cell_type": "code",
   "execution_count": 7,
   "id": "227ebe9a",
   "metadata": {},
   "outputs": [
    {
     "name": "stdout",
     "output_type": "stream",
     "text": [
      "2.0\n",
      "8\n",
      "6\n",
      "2\n"
     ]
    }
   ],
   "source": [
    "print(pembagian)\n",
    "print(perkalian)\n",
    "print(penjumlahan)\n",
    "print(pengurangan)"
   ]
  },
  {
   "cell_type": "code",
   "execution_count": 11,
   "id": "55a75fbc",
   "metadata": {},
   "outputs": [],
   "source": [
    "module = 11 % 3"
   ]
  },
  {
   "cell_type": "code",
   "execution_count": 12,
   "id": "aef0c7f2",
   "metadata": {},
   "outputs": [
    {
     "name": "stdout",
     "output_type": "stream",
     "text": [
      "2\n"
     ]
    }
   ],
   "source": [
    "print(module)"
   ]
  },
  {
   "cell_type": "code",
   "execution_count": 14,
   "id": "ffd2305f",
   "metadata": {},
   "outputs": [],
   "source": [
    "pangkat = 15**3"
   ]
  },
  {
   "cell_type": "code",
   "execution_count": 15,
   "id": "19ff4e69",
   "metadata": {},
   "outputs": [
    {
     "name": "stdout",
     "output_type": "stream",
     "text": [
      "3375\n"
     ]
    }
   ],
   "source": [
    "print(pangkat)"
   ]
  },
  {
   "cell_type": "code",
   "execution_count": 26,
   "id": "352af236",
   "metadata": {},
   "outputs": [],
   "source": [
    "subjek = \"aku \"\n",
    "predikat = \"sayang \"\n",
    "objek = \"kamu \"\n",
    "keterangan = \"luois partridge \"\n",
    "\n",
    "kalimat = subjek + predikat + objek + keterangan"
   ]
  },
  {
   "cell_type": "code",
   "execution_count": 27,
   "id": "e25039e8",
   "metadata": {},
   "outputs": [
    {
     "name": "stdout",
     "output_type": "stream",
     "text": [
      "aku sayang kamu luois partridge \n"
     ]
    }
   ],
   "source": [
    "print(kalimat)"
   ]
  },
  {
   "cell_type": "code",
   "execution_count": null,
   "id": "a4094f00",
   "metadata": {},
   "outputs": [],
   "source": []
  },
  {
   "cell_type": "code",
   "execution_count": null,
   "id": "88f5c1d5",
   "metadata": {},
   "outputs": [],
   "source": []
  }
 ],
 "metadata": {
  "kernelspec": {
   "display_name": "Python 3",
   "language": "python",
   "name": "python3"
  },
  "language_info": {
   "codemirror_mode": {
    "name": "ipython",
    "version": 3
   },
   "file_extension": ".py",
   "mimetype": "text/x-python",
   "name": "python",
   "nbconvert_exporter": "python",
   "pygments_lexer": "ipython3",
   "version": "3.8.8"
  }
 },
 "nbformat": 4,
 "nbformat_minor": 5
}
