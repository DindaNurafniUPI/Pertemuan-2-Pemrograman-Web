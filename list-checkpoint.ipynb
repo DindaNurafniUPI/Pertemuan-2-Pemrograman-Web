{
 "cells": [
  {
   "cell_type": "code",
   "execution_count": 1,
   "id": "6779f5ed",
   "metadata": {},
   "outputs": [],
   "source": [
    "my_list =[]"
   ]
  },
  {
   "cell_type": "code",
   "execution_count": 2,
   "id": "59c2d3f6",
   "metadata": {},
   "outputs": [],
   "source": [
    "list_angka = [4, 5, 6]"
   ]
  },
  {
   "cell_type": "code",
   "execution_count": 3,
   "id": "bfb94e98",
   "metadata": {},
   "outputs": [],
   "source": [
    "list_campuran = [1, \"apel\", 3,4]"
   ]
  },
  {
   "cell_type": "code",
   "execution_count": 4,
   "id": "6b8e02d2",
   "metadata": {},
   "outputs": [
    {
     "name": "stdout",
     "output_type": "stream",
     "text": [
      "[]\n"
     ]
    }
   ],
   "source": [
    "print(my_list)"
   ]
  },
  {
   "cell_type": "code",
   "execution_count": 5,
   "id": "29bfcb65",
   "metadata": {},
   "outputs": [
    {
     "name": "stdout",
     "output_type": "stream",
     "text": [
      "[4, 5, 6]\n"
     ]
    }
   ],
   "source": [
    "print(list_angka)"
   ]
  },
  {
   "cell_type": "code",
   "execution_count": 6,
   "id": "5a598cf0",
   "metadata": {},
   "outputs": [
    {
     "name": "stdout",
     "output_type": "stream",
     "text": [
      "[1, 'apel', 3, 4]\n"
     ]
    }
   ],
   "source": [
    "print(list_campuran)"
   ]
  },
  {
   "cell_type": "code",
   "execution_count": null,
   "id": "43676306",
   "metadata": {},
   "outputs": [],
   "source": [
    "contoh nested list (2 dimensi)"
   ]
  },
  {
   "cell_type": "code",
   "execution_count": 8,
   "id": "5068f75a",
   "metadata": {},
   "outputs": [],
   "source": [
    "nested_list = [[10,21,22],[18,19,20],[71,90,80]]"
   ]
  },
  {
   "cell_type": "code",
   "execution_count": 9,
   "id": "05c7a6b8",
   "metadata": {},
   "outputs": [
    {
     "name": "stdout",
     "output_type": "stream",
     "text": [
      "[[10, 21, 22], [18, 19, 20], [71, 90, 80]]\n"
     ]
    }
   ],
   "source": [
    "print(nested_list)"
   ]
  },
  {
   "cell_type": "code",
   "execution_count": null,
   "id": "d9e83a9a",
   "metadata": {},
   "outputs": [],
   "source": [
    "akses list (dimensi)"
   ]
  },
  {
   "cell_type": "code",
   "execution_count": 10,
   "id": "ed39edd2",
   "metadata": {},
   "outputs": [],
   "source": [
    "list_angka = [4, 5, 6]"
   ]
  },
  {
   "cell_type": "code",
   "execution_count": 11,
   "id": "f771171c",
   "metadata": {},
   "outputs": [],
   "source": [
    "#akses elemen pertama dari list (menggunakan {ndexing})"
   ]
  },
  {
   "cell_type": "code",
   "execution_count": 12,
   "id": "2d129c74",
   "metadata": {},
   "outputs": [
    {
     "name": "stdout",
     "output_type": "stream",
     "text": [
      "5\n"
     ]
    }
   ],
   "source": [
    "print(list_angka[1])"
   ]
  },
  {
   "cell_type": "code",
   "execution_count": null,
   "id": "2810577b",
   "metadata": {},
   "outputs": [],
   "source": [
    "akses list nested list"
   ]
  },
  {
   "cell_type": "code",
   "execution_count": null,
   "id": "baeaa0d9",
   "metadata": {},
   "outputs": [],
   "source": [
    "nested_list = [[10,21,22],[18,19,20],[71,90,80]]"
   ]
  },
  {
   "cell_type": "code",
   "execution_count": 13,
   "id": "3e8e9397",
   "metadata": {},
   "outputs": [
    {
     "name": "stdout",
     "output_type": "stream",
     "text": [
      "18\n"
     ]
    }
   ],
   "source": [
    "print(nested_list[1][0])"
   ]
  },
  {
   "cell_type": "code",
   "execution_count": null,
   "id": "59e98a69",
   "metadata": {},
   "outputs": [],
   "source": [
    "akses list dengan negatif index (dihitung dari belakang)"
   ]
  },
  {
   "cell_type": "code",
   "execution_count": 14,
   "id": "da9fcc8a",
   "metadata": {},
   "outputs": [
    {
     "name": "stdout",
     "output_type": "stream",
     "text": [
      "5\n"
     ]
    }
   ],
   "source": [
    "list_angka = [4, 5, 6]\n",
    "\n",
    "#akses elemen pertama dari list mnhcg indexing\n",
    "\n",
    "print(list_angka[-2])"
   ]
  },
  {
   "cell_type": "code",
   "execution_count": null,
   "id": "49d7efb6",
   "metadata": {},
   "outputs": [],
   "source": []
  }
 ],
 "metadata": {
  "kernelspec": {
   "display_name": "Python 3",
   "language": "python",
   "name": "python3"
  },
  "language_info": {
   "codemirror_mode": {
    "name": "ipython",
    "version": 3
   },
   "file_extension": ".py",
   "mimetype": "text/x-python",
   "name": "python",
   "nbconvert_exporter": "python",
   "pygments_lexer": "ipython3",
   "version": "3.8.8"
  }
 },
 "nbformat": 4,
 "nbformat_minor": 5
}
