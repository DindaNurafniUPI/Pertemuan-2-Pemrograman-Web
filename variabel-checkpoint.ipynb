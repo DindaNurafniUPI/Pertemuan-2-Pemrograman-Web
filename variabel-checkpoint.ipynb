{
 "cells": [
  {
   "cell_type": "code",
   "execution_count": 35,
   "id": "4d669129",
   "metadata": {},
   "outputs": [],
   "source": [
    "integer = 1\n",
    "float = 4.3\n",
    "stringg = \"aku suka kamu\"\n",
    "boolean = True\n"
   ]
  },
  {
   "cell_type": "code",
   "execution_count": 14,
   "id": "b9f11c35",
   "metadata": {},
   "outputs": [],
   "source": [
    "hewan = [\"ayam\", \"bebek\"]\n",
    "alphabets = {'a':'angsa', 'b':'babi'}"
   ]
  },
  {
   "cell_type": "code",
   "execution_count": 36,
   "id": "adbd4ff8",
   "metadata": {},
   "outputs": [
    {
     "name": "stdout",
     "output_type": "stream",
     "text": [
      "1\n",
      "4.3\n",
      "aku suka kamu\n",
      "True\n",
      "['ayam', 'bebek']\n",
      "{'a': 'angsa', 'b': 'babi'}\n"
     ]
    }
   ],
   "source": [
    "print(integer)\n",
    "print(float)\n",
    "print(stringg)\n",
    "print(boolean)\n",
    "print(hewan)\n",
    "print(alphabets)"
   ]
  },
  {
   "cell_type": "code",
   "execution_count": 37,
   "id": "f4b4b8b1",
   "metadata": {},
   "outputs": [
    {
     "name": "stdout",
     "output_type": "stream",
     "text": [
      "<class 'int'>\n"
     ]
    }
   ],
   "source": [
    "print(type(integer))"
   ]
  },
  {
   "cell_type": "code",
   "execution_count": 38,
   "id": "126594e0",
   "metadata": {},
   "outputs": [
    {
     "name": "stdout",
     "output_type": "stream",
     "text": [
      "<class 'float'>\n"
     ]
    }
   ],
   "source": [
    "print(type(float))"
   ]
  },
  {
   "cell_type": "code",
   "execution_count": 39,
   "id": "7e58b871",
   "metadata": {},
   "outputs": [
    {
     "name": "stdout",
     "output_type": "stream",
     "text": [
      "<class 'str'>\n"
     ]
    }
   ],
   "source": [
    "print(type(stringg))"
   ]
  },
  {
   "cell_type": "code",
   "execution_count": 40,
   "id": "c8006cd5",
   "metadata": {},
   "outputs": [
    {
     "name": "stdout",
     "output_type": "stream",
     "text": [
      "<class 'bool'>\n"
     ]
    }
   ],
   "source": [
    "print(type(boolean))"
   ]
  },
  {
   "cell_type": "code",
   "execution_count": 41,
   "id": "71bdfbe5",
   "metadata": {},
   "outputs": [
    {
     "name": "stdout",
     "output_type": "stream",
     "text": [
      "<class 'list'>\n"
     ]
    }
   ],
   "source": [
    "print(type(hewan))"
   ]
  },
  {
   "cell_type": "code",
   "execution_count": null,
   "id": "e8b3a8a7",
   "metadata": {},
   "outputs": [],
   "source": []
  }
 ],
 "metadata": {
  "kernelspec": {
   "display_name": "Python 3",
   "language": "python",
   "name": "python3"
  },
  "language_info": {
   "codemirror_mode": {
    "name": "ipython",
    "version": 3
   },
   "file_extension": ".py",
   "mimetype": "text/x-python",
   "name": "python",
   "nbconvert_exporter": "python",
   "pygments_lexer": "ipython3",
   "version": "3.8.8"
  }
 },
 "nbformat": 4,
 "nbformat_minor": 5
}
