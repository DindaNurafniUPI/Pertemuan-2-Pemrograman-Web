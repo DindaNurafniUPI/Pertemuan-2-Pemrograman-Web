{
 "cells": [
  {
   "cell_type": "code",
   "execution_count": 9,
   "id": "36cb7bce",
   "metadata": {},
   "outputs": [],
   "source": [
    "list_buah = ['apel', 'melon', 'semangka', 'belimbing', 'anggur']"
   ]
  },
  {
   "cell_type": "code",
   "execution_count": 13,
   "id": "e384cb22",
   "metadata": {},
   "outputs": [
    {
     "name": "stdout",
     "output_type": "stream",
     "text": [
      "3\n"
     ]
    }
   ],
   "source": [
    "print(list_buah.index('belimbing'))"
   ]
  },
  {
   "cell_type": "code",
   "execution_count": 18,
   "id": "476bfc3c",
   "metadata": {},
   "outputs": [
    {
     "name": "stdout",
     "output_type": "stream",
     "text": [
      "1\n"
     ]
    }
   ],
   "source": [
    "#count \n",
    "print(list_buah.count('anggur'))"
   ]
  },
  {
   "cell_type": "code",
   "execution_count": 19,
   "id": "6de97d2d",
   "metadata": {},
   "outputs": [
    {
     "name": "stdout",
     "output_type": "stream",
     "text": [
      "1\n"
     ]
    }
   ],
   "source": [
    "print(list_buah.count('apel'))"
   ]
  },
  {
   "cell_type": "code",
   "execution_count": 20,
   "id": "c0ad4725",
   "metadata": {},
   "outputs": [
    {
     "name": "stdout",
     "output_type": "stream",
     "text": [
      "['anggur', 'apel', 'belimbing', 'melon', 'semangka']\n"
     ]
    }
   ],
   "source": [
    "#sort\n",
    "list_buah.sort()\n",
    "print(list_buah)"
   ]
  },
  {
   "cell_type": "code",
   "execution_count": 21,
   "id": "c374b35f",
   "metadata": {},
   "outputs": [
    {
     "name": "stdout",
     "output_type": "stream",
     "text": [
      "['semangka', 'melon', 'belimbing', 'apel', 'anggur']\n"
     ]
    }
   ],
   "source": [
    "list_buah.sort(reverse = True)\n",
    "print(list_buah)"
   ]
  },
  {
   "cell_type": "code",
   "execution_count": 23,
   "id": "2e8f3b16",
   "metadata": {},
   "outputs": [
    {
     "name": "stdout",
     "output_type": "stream",
     "text": [
      "['5', '4', '3', '2', '1']\n"
     ]
    }
   ],
   "source": [
    "list_angka = ['1', '2', '3', '4', '5']\n",
    "\n",
    "list_angka.reverse()\n",
    "print(list_angka)"
   ]
  },
  {
   "cell_type": "code",
   "execution_count": null,
   "id": "d4de0e17",
   "metadata": {},
   "outputs": [],
   "source": []
  }
 ],
 "metadata": {
  "kernelspec": {
   "display_name": "Python 3",
   "language": "python",
   "name": "python3"
  },
  "language_info": {
   "codemirror_mode": {
    "name": "ipython",
    "version": 3
   },
   "file_extension": ".py",
   "mimetype": "text/x-python",
   "name": "python",
   "nbconvert_exporter": "python",
   "pygments_lexer": "ipython3",
   "version": "3.8.8"
  }
 },
 "nbformat": 4,
 "nbformat_minor": 5
}
