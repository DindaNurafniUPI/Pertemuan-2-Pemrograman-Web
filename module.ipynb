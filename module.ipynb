{
 "cells": [
  {
   "cell_type": "code",
   "execution_count": 1,
   "id": "cbef84ef",
   "metadata": {},
   "outputs": [],
   "source": [
    "import luas"
   ]
  },
  {
   "cell_type": "code",
   "execution_count": 2,
   "id": "4affacef",
   "metadata": {},
   "outputs": [],
   "source": [
    "luas_persegi = luas.luas_persegi(5)\n",
    "luas_persegi_panjang = luas.luas_persegi_panjang(4,8)"
   ]
  },
  {
   "cell_type": "code",
   "execution_count": 3,
   "id": "23d11fcb",
   "metadata": {},
   "outputs": [
    {
     "name": "stdout",
     "output_type": "stream",
     "text": [
      "25\n",
      "32\n"
     ]
    }
   ],
   "source": [
    "print(luas_persegi)\n",
    "print(luas_persegi_panjang)"
   ]
  },
  {
   "cell_type": "code",
   "execution_count": 5,
   "id": "53f4628e",
   "metadata": {},
   "outputs": [],
   "source": [
    "from luas import luas_persegi as lp\n",
    "from luas import luas_persegi_panjang as lpg"
   ]
  },
  {
   "cell_type": "code",
   "execution_count": 6,
   "id": "8d0bbabb",
   "metadata": {},
   "outputs": [],
   "source": [
    "luas_persegi = lp(5)\n",
    "luas_persegi_panjang = lpg(4, 5)"
   ]
  },
  {
   "cell_type": "code",
   "execution_count": 7,
   "id": "67c64647",
   "metadata": {},
   "outputs": [
    {
     "name": "stdout",
     "output_type": "stream",
     "text": [
      "25\n",
      "20\n"
     ]
    }
   ],
   "source": [
    "print (luas_persegi)\n",
    "print (luas_persegi_panjang)"
   ]
  },
  {
   "cell_type": "code",
   "execution_count": null,
   "id": "e229b130",
   "metadata": {},
   "outputs": [],
   "source": []
  }
 ],
 "metadata": {
  "kernelspec": {
   "display_name": "Python 3",
   "language": "python",
   "name": "python3"
  },
  "language_info": {
   "codemirror_mode": {
    "name": "ipython",
    "version": 3
   },
   "file_extension": ".py",
   "mimetype": "text/x-python",
   "name": "python",
   "nbconvert_exporter": "python",
   "pygments_lexer": "ipython3",
   "version": "3.8.8"
  }
 },
 "nbformat": 4,
 "nbformat_minor": 5
}
