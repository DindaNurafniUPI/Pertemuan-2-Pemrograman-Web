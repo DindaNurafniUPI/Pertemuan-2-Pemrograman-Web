{
 "cells": [
  {
   "cell_type": "code",
   "execution_count": 2,
   "id": "4e145c30",
   "metadata": {},
   "outputs": [],
   "source": [
    "bilangan_bulat = 6\n",
    "bilangan_desimal = 4.5\n",
    "\n",
    "hasil = bilangan_bulat + bilangan_desimal"
   ]
  },
  {
   "cell_type": "code",
   "execution_count": 3,
   "id": "288e9220",
   "metadata": {},
   "outputs": [
    {
     "name": "stdout",
     "output_type": "stream",
     "text": [
      "10.5\n"
     ]
    }
   ],
   "source": [
    "print(hasil)"
   ]
  },
  {
   "cell_type": "code",
   "execution_count": 4,
   "id": "556c7476",
   "metadata": {},
   "outputs": [
    {
     "name": "stdout",
     "output_type": "stream",
     "text": [
      "<class 'str'>\n",
      "1\n"
     ]
    }
   ],
   "source": [
    "bilangan_bulat = \"1\"\n",
    "print(type(bilangan_bulat))\n",
    "print(bilangan_bulat)"
   ]
  },
  {
   "cell_type": "code",
   "execution_count": 7,
   "id": "91c65288",
   "metadata": {},
   "outputs": [
    {
     "name": "stdout",
     "output_type": "stream",
     "text": [
      "<class 'int'>\n",
      "1\n"
     ]
    }
   ],
   "source": [
    "bilangan_bulat = int(bilangan_bulat)\n",
    "print(type(bilangan_bulat))\n",
    "print(bilangan_bulat)"
   ]
  },
  {
   "cell_type": "code",
   "execution_count": 8,
   "id": "af8d2984",
   "metadata": {},
   "outputs": [
    {
     "name": "stdout",
     "output_type": "stream",
     "text": [
      "<class 'str'>\n",
      "1\n"
     ]
    }
   ],
   "source": [
    "bilangan_bulat = str(bilangan_bulat)\n",
    "print(type(bilangan_bulat))\n",
    "print(bilangan_bulat)"
   ]
  },
  {
   "cell_type": "code",
   "execution_count": 9,
   "id": "73118354",
   "metadata": {},
   "outputs": [
    {
     "name": "stdout",
     "output_type": "stream",
     "text": [
      "<class 'float'>\n",
      "1.0\n"
     ]
    }
   ],
   "source": [
    "bilangan_bulat = float(bilangan_bulat)\n",
    "print(type(bilangan_bulat))\n",
    "print(bilangan_bulat)"
   ]
  },
  {
   "cell_type": "code",
   "execution_count": null,
   "id": "d5dbac40",
   "metadata": {},
   "outputs": [],
   "source": []
  }
 ],
 "metadata": {
  "kernelspec": {
   "display_name": "Python 3",
   "language": "python",
   "name": "python3"
  },
  "language_info": {
   "codemirror_mode": {
    "name": "ipython",
    "version": 3
   },
   "file_extension": ".py",
   "mimetype": "text/x-python",
   "name": "python",
   "nbconvert_exporter": "python",
   "pygments_lexer": "ipython3",
   "version": "3.8.8"
  }
 },
 "nbformat": 4,
 "nbformat_minor": 5
}
