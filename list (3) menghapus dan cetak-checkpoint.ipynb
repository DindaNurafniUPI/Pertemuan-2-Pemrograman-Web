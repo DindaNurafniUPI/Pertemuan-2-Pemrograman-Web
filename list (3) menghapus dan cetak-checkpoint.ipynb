{
 "cells": [
  {
   "cell_type": "code",
   "execution_count": 2,
   "id": "027886bc",
   "metadata": {},
   "outputs": [],
   "source": [
    "list_buah = ['apel', 'melon', 'pisang', 'semangka']"
   ]
  },
  {
   "cell_type": "code",
   "execution_count": 3,
   "id": "7caa5b8b",
   "metadata": {},
   "outputs": [],
   "source": [
    "#menggunakan remove"
   ]
  },
  {
   "cell_type": "code",
   "execution_count": 4,
   "id": "45f298e3",
   "metadata": {},
   "outputs": [],
   "source": [
    "list_buah.remove(\"apel\")"
   ]
  },
  {
   "cell_type": "code",
   "execution_count": 5,
   "id": "8f59435c",
   "metadata": {},
   "outputs": [
    {
     "name": "stdout",
     "output_type": "stream",
     "text": [
      "['melon', 'pisang', 'semangka']\n"
     ]
    }
   ],
   "source": [
    "print(list_buah)"
   ]
  },
  {
   "cell_type": "code",
   "execution_count": null,
   "id": "72aca21a",
   "metadata": {},
   "outputs": [],
   "source": [
    "#menggunakan pop"
   ]
  },
  {
   "cell_type": "code",
   "execution_count": 13,
   "id": "2efd11c5",
   "metadata": {},
   "outputs": [
    {
     "data": {
      "text/plain": [
       "'semangka'"
      ]
     },
     "execution_count": 13,
     "metadata": {},
     "output_type": "execute_result"
    }
   ],
   "source": [
    "list_buah.pop(2)"
   ]
  },
  {
   "cell_type": "code",
   "execution_count": 14,
   "id": "49b219c3",
   "metadata": {},
   "outputs": [
    {
     "name": "stdout",
     "output_type": "stream",
     "text": [
      "['melon', 'pisang']\n"
     ]
    }
   ],
   "source": [
    "print(list_buah)"
   ]
  },
  {
   "cell_type": "code",
   "execution_count": null,
   "id": "368e4c78",
   "metadata": {},
   "outputs": [],
   "source": [
    "#mencetak isi elemen list"
   ]
  },
  {
   "cell_type": "code",
   "execution_count": 16,
   "id": "b5ce9137",
   "metadata": {},
   "outputs": [],
   "source": [
    "list_buah = ['apel', 'melon', 'pisang', 'semangka']"
   ]
  },
  {
   "cell_type": "code",
   "execution_count": 17,
   "id": "a3ac8029",
   "metadata": {},
   "outputs": [
    {
     "name": "stdout",
     "output_type": "stream",
     "text": [
      "apel\n",
      "melon\n",
      "pisang\n",
      "semangka\n"
     ]
    }
   ],
   "source": [
    "#menggunakan range\n",
    "\n",
    "for index in range(len(list_buah)):\n",
    "    print(list_buah[index])"
   ]
  },
  {
   "cell_type": "code",
   "execution_count": null,
   "id": "8e182157",
   "metadata": {},
   "outputs": [],
   "source": [
    "#menggunakan list secara langsung\n",
    "for nama_buah in list_buah:\n",
    "    print(nama_buah)"
   ]
  }
 ],
 "metadata": {
  "kernelspec": {
   "display_name": "Python 3",
   "language": "python",
   "name": "python3"
  },
  "language_info": {
   "codemirror_mode": {
    "name": "ipython",
    "version": 3
   },
   "file_extension": ".py",
   "mimetype": "text/x-python",
   "name": "python",
   "nbconvert_exporter": "python",
   "pygments_lexer": "ipython3",
   "version": "3.8.8"
  }
 },
 "nbformat": 4,
 "nbformat_minor": 5
}
