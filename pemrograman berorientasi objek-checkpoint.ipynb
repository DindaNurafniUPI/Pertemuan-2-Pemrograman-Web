{
 "cells": [
  {
   "cell_type": "code",
   "execution_count": null,
   "id": "222f01b0",
   "metadata": {},
   "outputs": [],
   "source": [
    "import luas"
   ]
  },
  {
   "cell_type": "code",
   "execution_count": null,
   "id": "ce79db9f",
   "metadata": {},
   "outputs": [],
   "source": [
    "luas_persegi = luas.luas_persegi(5)\n",
    "luas_persegi_panjang = luas.luas_persegi_panjang(5, 10)"
   ]
  },
  {
   "cell_type": "code",
   "execution_count": null,
   "id": "f58480ac",
   "metadata": {},
   "outputs": [],
   "source": [
    "print(luas_persegi)\n",
    "print(luas_persegi_panjang)"
   ]
  }
 ],
 "metadata": {
  "kernelspec": {
   "display_name": "Python 3",
   "language": "python",
   "name": "python3"
  },
  "language_info": {
   "codemirror_mode": {
    "name": "ipython",
    "version": 3
   },
   "file_extension": ".py",
   "mimetype": "text/x-python",
   "name": "python",
   "nbconvert_exporter": "python",
   "pygments_lexer": "ipython3",
   "version": "3.8.8"
  }
 },
 "nbformat": 4,
 "nbformat_minor": 5
}
