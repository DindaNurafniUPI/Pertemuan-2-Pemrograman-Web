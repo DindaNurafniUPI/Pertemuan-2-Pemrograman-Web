{
 "cells": [
  {
   "cell_type": "code",
   "execution_count": 2,
   "id": "e4a8a680",
   "metadata": {},
   "outputs": [],
   "source": [
    "contoh_list = ['m', 'a', 'k', 'a', 'n', 'a', 'p', 'e', 'l']"
   ]
  },
  {
   "cell_type": "code",
   "execution_count": 3,
   "id": "3c97e55b",
   "metadata": {},
   "outputs": [
    {
     "name": "stdout",
     "output_type": "stream",
     "text": [
      "['k', 'a', 'n']\n"
     ]
    }
   ],
   "source": [
    "print(contoh_list[2:5])"
   ]
  },
  {
   "cell_type": "code",
   "execution_count": 4,
   "id": "cecf8c6a",
   "metadata": {},
   "outputs": [
    {
     "name": "stdout",
     "output_type": "stream",
     "text": [
      "['a', 'p', 'e', 'l']\n"
     ]
    }
   ],
   "source": [
    "print(contoh_list[5:])"
   ]
  },
  {
   "cell_type": "code",
   "execution_count": 5,
   "id": "f2eb827f",
   "metadata": {},
   "outputs": [
    {
     "name": "stdout",
     "output_type": "stream",
     "text": [
      "['m', 'a', 'k', 'a', 'n', 'a', 'p', 'e', 'l']\n"
     ]
    }
   ],
   "source": [
    "print(contoh_list[:])"
   ]
  },
  {
   "cell_type": "code",
   "execution_count": null,
   "id": "21a6b6e3",
   "metadata": {},
   "outputs": [],
   "source": [
    "mengganti nilai list"
   ]
  },
  {
   "cell_type": "code",
   "execution_count": 6,
   "id": "111ca585",
   "metadata": {},
   "outputs": [
    {
     "name": "stdout",
     "output_type": "stream",
     "text": [
      "[4, 5, 6]\n"
     ]
    }
   ],
   "source": [
    "list_angka = [4, 5, 6]\n",
    "print(list_angka)"
   ]
  },
  {
   "cell_type": "code",
   "execution_count": 7,
   "id": "bf36e185",
   "metadata": {},
   "outputs": [
    {
     "name": "stdout",
     "output_type": "stream",
     "text": [
      "[4, 5, 10]\n"
     ]
    }
   ],
   "source": [
    "list_angka[2] = 10\n",
    "print(list_angka)"
   ]
  },
  {
   "cell_type": "code",
   "execution_count": null,
   "id": "bbb9f52d",
   "metadata": {},
   "outputs": [],
   "source": [
    "menambah elemen di list"
   ]
  },
  {
   "cell_type": "code",
   "execution_count": 8,
   "id": "484327d5",
   "metadata": {},
   "outputs": [
    {
     "name": "stdout",
     "output_type": "stream",
     "text": [
      "[4, 5, 6]\n"
     ]
    }
   ],
   "source": [
    "list_angka = [4, 5, 6]\n",
    "print(list_angka)"
   ]
  },
  {
   "cell_type": "code",
   "execution_count": 12,
   "id": "ad227737",
   "metadata": {},
   "outputs": [],
   "source": [
    "list_angka.append(80)"
   ]
  },
  {
   "cell_type": "code",
   "execution_count": 13,
   "id": "a473ddcf",
   "metadata": {},
   "outputs": [
    {
     "name": "stdout",
     "output_type": "stream",
     "text": [
      "[4, 5, 6, 80]\n"
     ]
    }
   ],
   "source": [
    "print(list_angka)"
   ]
  },
  {
   "cell_type": "code",
   "execution_count": null,
   "id": "229d1a90",
   "metadata": {},
   "outputs": [],
   "source": [
    "penambahan list extend"
   ]
  },
  {
   "cell_type": "code",
   "execution_count": 14,
   "id": "af5cba6d",
   "metadata": {},
   "outputs": [],
   "source": [
    "penambah_list = [10, 20]\n",
    "list_angka.extend(penambah_list)"
   ]
  },
  {
   "cell_type": "code",
   "execution_count": 15,
   "id": "b3caa357",
   "metadata": {},
   "outputs": [
    {
     "name": "stdout",
     "output_type": "stream",
     "text": [
      "[4, 5, 6, 80, 10, 20]\n"
     ]
    }
   ],
   "source": [
    "print(list_angka)"
   ]
  },
  {
   "cell_type": "code",
   "execution_count": null,
   "id": "8de41ffc",
   "metadata": {},
   "outputs": [],
   "source": [
    "penambah list dengan insert"
   ]
  },
  {
   "cell_type": "code",
   "execution_count": 18,
   "id": "09dc6761",
   "metadata": {},
   "outputs": [
    {
     "name": "stdout",
     "output_type": "stream",
     "text": [
      "[4, 5, 6]\n"
     ]
    }
   ],
   "source": [
    "list_angka = [4, 5, 6]\n",
    "print(list_angka)"
   ]
  },
  {
   "cell_type": "code",
   "execution_count": 19,
   "id": "5b1aad46",
   "metadata": {},
   "outputs": [],
   "source": [
    "list_angka.insert(1, 3)"
   ]
  },
  {
   "cell_type": "code",
   "execution_count": 20,
   "id": "d54b1b4d",
   "metadata": {},
   "outputs": [
    {
     "name": "stdout",
     "output_type": "stream",
     "text": [
      "[4, 3, 5, 6]\n"
     ]
    }
   ],
   "source": [
    "print(list_angka)"
   ]
  },
  {
   "cell_type": "code",
   "execution_count": null,
   "id": "f47de3cc",
   "metadata": {},
   "outputs": [],
   "source": []
  }
 ],
 "metadata": {
  "kernelspec": {
   "display_name": "Python 3",
   "language": "python",
   "name": "python3"
  },
  "language_info": {
   "codemirror_mode": {
    "name": "ipython",
    "version": 3
   },
   "file_extension": ".py",
   "mimetype": "text/x-python",
   "name": "python",
   "nbconvert_exporter": "python",
   "pygments_lexer": "ipython3",
   "version": "3.8.8"
  }
 },
 "nbformat": 4,
 "nbformat_minor": 5
}
