{
 "cells": [
  {
   "cell_type": "code",
   "execution_count": null,
   "id": "0c01ae46",
   "metadata": {},
   "outputs": [],
   "source": [
    "def function_name(parameters):\n",
    "    \"\"\"\"docstring\"\"\"\n",
    "    statment(s)\n",
    "    "
   ]
  },
  {
   "cell_type": "code",
   "execution_count": null,
   "id": "bf243176",
   "metadata": {},
   "outputs": [],
   "source": [
    "Tanpa Function"
   ]
  },
  {
   "cell_type": "code",
   "execution_count": 1,
   "id": "4af3749e",
   "metadata": {},
   "outputs": [
    {
     "name": "stdout",
     "output_type": "stream",
     "text": [
      "0\n",
      "1\n",
      "2\n",
      "3\n",
      "4\n",
      "5\n",
      "6\n",
      "7\n",
      "8\n",
      "9\n",
      "10\n"
     ]
    }
   ],
   "source": [
    "for i in range(0, 11):\n",
    "    print(i)"
   ]
  },
  {
   "cell_type": "code",
   "execution_count": 2,
   "id": "cd5b2827",
   "metadata": {},
   "outputs": [
    {
     "name": "stdout",
     "output_type": "stream",
     "text": [
      "0\n",
      "1\n",
      "2\n",
      "3\n",
      "4\n",
      "5\n",
      "6\n",
      "7\n",
      "8\n",
      "9\n",
      "10\n",
      "11\n",
      "12\n",
      "13\n",
      "14\n",
      "15\n",
      "16\n",
      "17\n",
      "18\n",
      "19\n",
      "20\n"
     ]
    }
   ],
   "source": [
    "for i in range(0, 21):\n",
    "    print(i)"
   ]
  },
  {
   "cell_type": "code",
   "execution_count": null,
   "id": "b2cc3146",
   "metadata": {},
   "outputs": [],
   "source": [
    "DENGAN FUNCTION"
   ]
  },
  {
   "cell_type": "code",
   "execution_count": 4,
   "id": "d4789583",
   "metadata": {},
   "outputs": [],
   "source": [
    "def cetak_angka(angka):\n",
    "    for i in range(angka):\n",
    "        print(i)\n",
    "        \n"
   ]
  },
  {
   "cell_type": "code",
   "execution_count": 5,
   "id": "269ad666",
   "metadata": {},
   "outputs": [
    {
     "name": "stdout",
     "output_type": "stream",
     "text": [
      "0\n",
      "1\n",
      "2\n",
      "3\n",
      "4\n",
      "5\n",
      "6\n",
      "7\n",
      "8\n",
      "9\n",
      "10\n"
     ]
    }
   ],
   "source": [
    "cetak_angka(11)"
   ]
  },
  {
   "cell_type": "code",
   "execution_count": 6,
   "id": "a6d25485",
   "metadata": {},
   "outputs": [
    {
     "name": "stdout",
     "output_type": "stream",
     "text": [
      "0\n",
      "1\n",
      "2\n",
      "3\n",
      "4\n",
      "5\n",
      "6\n",
      "7\n",
      "8\n",
      "9\n",
      "10\n",
      "11\n",
      "12\n",
      "13\n",
      "14\n",
      "15\n",
      "16\n",
      "17\n",
      "18\n",
      "19\n",
      "20\n"
     ]
    }
   ],
   "source": [
    "cetak_angka(21)"
   ]
  },
  {
   "cell_type": "code",
   "execution_count": null,
   "id": "b009b073",
   "metadata": {},
   "outputs": [],
   "source": [
    "contoh lain function"
   ]
  },
  {
   "cell_type": "code",
   "execution_count": 10,
   "id": "c0d1c0c5",
   "metadata": {},
   "outputs": [],
   "source": [
    "def luas_persegi_panjang(panjang, lebar):\n",
    "    luas = panjang * lebar\n",
    "    return luas"
   ]
  },
  {
   "cell_type": "code",
   "execution_count": 11,
   "id": "a65107b4",
   "metadata": {},
   "outputs": [],
   "source": [
    "luas1 = luas_persegi_panjang(10, 20)"
   ]
  },
  {
   "cell_type": "code",
   "execution_count": 12,
   "id": "31b6adeb",
   "metadata": {},
   "outputs": [
    {
     "name": "stdout",
     "output_type": "stream",
     "text": [
      "200\n"
     ]
    }
   ],
   "source": [
    "print(luas1)"
   ]
  },
  {
   "cell_type": "code",
   "execution_count": 15,
   "id": "72fd774d",
   "metadata": {},
   "outputs": [],
   "source": [
    "def luas_persegi_panjang(panjang, lebar):\n",
    "    luas = panjang * lebar\n",
    "#    return luas"
   ]
  },
  {
   "cell_type": "code",
   "execution_count": 16,
   "id": "c19e7fda",
   "metadata": {},
   "outputs": [],
   "source": [
    "luas1 = luas_persegi_panjang(10, 20)"
   ]
  },
  {
   "cell_type": "code",
   "execution_count": 17,
   "id": "d55ffb0b",
   "metadata": {},
   "outputs": [
    {
     "name": "stdout",
     "output_type": "stream",
     "text": [
      "None\n"
     ]
    }
   ],
   "source": [
    "print(luas1)"
   ]
  },
  {
   "cell_type": "code",
   "execution_count": null,
   "id": "c9aafd81",
   "metadata": {},
   "outputs": [],
   "source": []
  }
 ],
 "metadata": {
  "kernelspec": {
   "display_name": "Python 3",
   "language": "python",
   "name": "python3"
  },
  "language_info": {
   "codemirror_mode": {
    "name": "ipython",
    "version": 3
   },
   "file_extension": ".py",
   "mimetype": "text/x-python",
   "name": "python",
   "nbconvert_exporter": "python",
   "pygments_lexer": "ipython3",
   "version": "3.8.8"
  }
 },
 "nbformat": 4,
 "nbformat_minor": 5
}
