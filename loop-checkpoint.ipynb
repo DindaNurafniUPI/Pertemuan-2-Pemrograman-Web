{
 "cells": [
  {
   "cell_type": "code",
   "execution_count": null,
   "id": "f132e77b",
   "metadata": {},
   "outputs": [],
   "source": [
    "if satu kondisi"
   ]
  },
  {
   "cell_type": "code",
   "execution_count": 1,
   "id": "76472c6d",
   "metadata": {},
   "outputs": [
    {
     "name": "stdout",
     "output_type": "stream",
     "text": [
      "Pergi ke dokter\n"
     ]
    }
   ],
   "source": [
    "keadaan = \"sakit\"\n",
    "if keadaan == \"sakit\":\n",
    "    print(\"Pergi ke dokter\")"
   ]
  },
  {
   "cell_type": "code",
   "execution_count": null,
   "id": "b5279fb4",
   "metadata": {},
   "outputs": [],
   "source": [
    "if dua kondisi"
   ]
  },
  {
   "cell_type": "code",
   "execution_count": 11,
   "id": "71e46ded",
   "metadata": {},
   "outputs": [
    {
     "name": "stdout",
     "output_type": "stream",
     "text": [
      "Bertamasya\n"
     ]
    }
   ],
   "source": [
    "keadaan = \"kritis\"\n",
    "if keadaan == \"Bahagia\":\n",
    "    print(\"Segera ke dokter\")\n",
    "else:\n",
    "    print(\"Bertamasya\")"
   ]
  },
  {
   "cell_type": "code",
   "execution_count": null,
   "id": "e15150f6",
   "metadata": {},
   "outputs": [],
   "source": [
    "keadaan = \"sedih\"\n",
    "\n",
    "if keadaan == \"sedih\":\n",
    "    print(\"jangan sedih terus!\")\n",
    "elif keadaan == \"stres\":\n",
    "    print(\"segera berlibur\")\n",
    "else:\n",
    "    print(\"ayo kita makan\")"
   ]
  },
  {
   "cell_type": "code",
   "execution_count": null,
   "id": "1afaceea",
   "metadata": {},
   "outputs": [],
   "source": []
  }
 ],
 "metadata": {
  "kernelspec": {
   "display_name": "Python 3",
   "language": "python",
   "name": "python3"
  },
  "language_info": {
   "codemirror_mode": {
    "name": "ipython",
    "version": 3
   },
   "file_extension": ".py",
   "mimetype": "text/x-python",
   "name": "python",
   "nbconvert_exporter": "python",
   "pygments_lexer": "ipython3",
   "version": "3.8.8"
  }
 },
 "nbformat": 4,
 "nbformat_minor": 5
}
